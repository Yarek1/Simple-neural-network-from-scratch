{
 "cells": [
  {
   "cell_type": "markdown",
   "metadata": {},
   "source": [
    "It is simple neural network model. It predict output of signal given by one or zero by input values in matrix form"
   ]
  },
  {
   "cell_type": "markdown",
   "metadata": {},
   "source": [
    "### Libraries\n"
   ]
  },
  {
   "cell_type": "code",
   "execution_count": 155,
   "metadata": {},
   "outputs": [],
   "source": [
    "import numpy as np\n",
    "import matplotlib.pyplot as plt\n",
    "import pandas as pd"
   ]
  },
  {
   "cell_type": "markdown",
   "metadata": {},
   "source": [
    "### Model"
   ]
  },
  {
   "cell_type": "code",
   "execution_count": 156,
   "metadata": {},
   "outputs": [],
   "source": [
    "def sigmoid(x): # sigmoid function as activation function\n",
    "    return 1 / (1 + np.exp(-x))\n",
    "\n",
    "def sig_deriv(x): # derivative of sigmoid function\n",
    "    return x*(1-x)    \n",
    "    \n",
    "def compute_loss(y_hat, y): # model loss\n",
    "    return ((y_hat - y)**2).sum()\n",
    "\n",
    "\n",
    "class NeuralNetwork:\n",
    "    def __init__(self,x,y):\n",
    "        self.x   = x  # input\n",
    "        self.y   = y  # output\n",
    "        self.w1  = np.random.rand(self.x.shape[1],self.x.shape[0]) # weights starts with randomly normal distribution numbers \n",
    "        self.w2  = np.random.rand(self.x.shape[0],1) # weights starts with randomly normal distribution numbers\n",
    "        self.out = np.zeros(self.y.shape) # output of model, starts with zeros        \n",
    "        \n",
    "    def feedforward(self): # feed forward propagation\n",
    "        self.hiddenlayer = sigmoid(np.dot(self.x, self.w1))\n",
    "        self.out = sigmoid(np.dot(self.hiddenlayer, self.w2))\n",
    "\n",
    "    def backprop(self):\n",
    "        # Chain rule to update weights\n",
    "        \n",
    "        # derivative of last layer\n",
    "        deriv_w2 = np.dot(self.hiddenlayer.T, (2*(self.y - self.out) * sig_deriv(self.out)))\n",
    "        # derivative of previous layer\n",
    "        deriv_w1 = np.dot(self.x.T,  (np.dot(2*(self.y - self.out) * sig_deriv(self.out), self.w2.T) * sig_deriv(self.hiddenlayer)))\n",
    "        \n",
    "        # updating weights \n",
    "        self.w1 += deriv_w1\n",
    "        self.w2 += deriv_w2\n",
    "                 "
   ]
  },
  {
   "cell_type": "markdown",
   "metadata": {},
   "source": [
    "### Dane"
   ]
  },
  {
   "cell_type": "code",
   "execution_count": 157,
   "metadata": {},
   "outputs": [],
   "source": [
    "input_matrix = np.array([[0,0,1,1],[0,1,1,0],[1,0,1,0],[1,1,1,1],[1,0,0,1]])\n",
    "output_vec = (np.array([[0],[1],[1],[0],[1]]))"
   ]
  },
  {
   "cell_type": "code",
   "execution_count": 158,
   "metadata": {},
   "outputs": [
    {
     "data": {
      "text/plain": [
       "array([[0, 0, 1, 1],\n",
       "       [0, 1, 1, 0],\n",
       "       [1, 0, 1, 0],\n",
       "       [1, 1, 1, 1],\n",
       "       [1, 0, 0, 1]])"
      ]
     },
     "execution_count": 158,
     "metadata": {},
     "output_type": "execute_result"
    }
   ],
   "source": [
    "input_matrix"
   ]
  },
  {
   "cell_type": "code",
   "execution_count": 159,
   "metadata": {},
   "outputs": [
    {
     "data": {
      "text/plain": [
       "array([[0],\n",
       "       [1],\n",
       "       [1],\n",
       "       [0],\n",
       "       [1]])"
      ]
     },
     "execution_count": 159,
     "metadata": {},
     "output_type": "execute_result"
    }
   ],
   "source": [
    "output_vec"
   ]
  },
  {
   "cell_type": "markdown",
   "metadata": {},
   "source": [
    "### Training\n"
   ]
  },
  {
   "cell_type": "code",
   "execution_count": 160,
   "metadata": {},
   "outputs": [],
   "source": [
    "nn=NeuralNetwork(input_matrix,output_vec)"
   ]
  },
  {
   "cell_type": "code",
   "execution_count": 161,
   "metadata": {},
   "outputs": [],
   "source": [
    "loss_values = []"
   ]
  },
  {
   "cell_type": "code",
   "execution_count": 162,
   "metadata": {},
   "outputs": [
    {
     "name": "stdout",
     "output_type": "stream",
     "text": [
      "0.26818053895279764\n",
      "0.04536226126875746\n",
      "0.021835952730890736\n",
      "0.013983618037636411\n",
      "0.010171659039843428\n",
      "0.007948046094029854\n",
      "0.006500919841243571\n",
      "0.005488096882836278\n",
      "0.004741543242010513\n",
      "0.0041695014998344715\n",
      "0.0037177848986804938\n",
      "0.003352406765555466\n",
      "0.003051005846131687\n",
      "0.0027982859165618483\n",
      "0.002583440203702437\n",
      "0.0023986229654677452\n",
      "0.002238004036045239\n",
      "0.0020971629422400083\n",
      "0.001972688618392021\n",
      "0.0018619078398178814\n",
      "[[0.0030227 ]\n",
      " [0.97744906]\n",
      " [0.9959612 ]\n",
      " [0.02860581]\n",
      " [0.97742518]]\n",
      " final loss : 0.0018619078398178814\n"
     ]
    }
   ],
   "source": [
    "for i in range(20):    \n",
    "    for i in range(100):\n",
    "        nn.feedforward()\n",
    "        nn.backprop()\n",
    "        loss = compute_loss(nn.out, output_vec)\n",
    "        loss_values.append(loss)\n",
    "    print(loss)\n",
    "print(nn.out)\n",
    "print(f\" final loss : {loss}\")"
   ]
  },
  {
   "cell_type": "markdown",
   "metadata": {},
   "source": [
    "### Visualization"
   ]
  },
  {
   "cell_type": "code",
   "execution_count": 163,
   "metadata": {},
   "outputs": [
    {
     "data": {
      "text/html": [
       "<div>\n",
       "<style scoped>\n",
       "    .dataframe tbody tr th:only-of-type {\n",
       "        vertical-align: middle;\n",
       "    }\n",
       "\n",
       "    .dataframe tbody tr th {\n",
       "        vertical-align: top;\n",
       "    }\n",
       "\n",
       "    .dataframe thead th {\n",
       "        text-align: right;\n",
       "    }\n",
       "</style>\n",
       "<table border=\"1\" class=\"dataframe\">\n",
       "  <thead>\n",
       "    <tr style=\"text-align: right;\">\n",
       "      <th></th>\n",
       "      <th>Input1</th>\n",
       "      <th>Input2</th>\n",
       "      <th>Input3</th>\n",
       "      <th>Input4</th>\n",
       "      <th>Output</th>\n",
       "      <th>Network_prediction</th>\n",
       "      <th>Network_output</th>\n",
       "    </tr>\n",
       "  </thead>\n",
       "  <tbody>\n",
       "    <tr>\n",
       "      <th>0</th>\n",
       "      <td>0</td>\n",
       "      <td>0</td>\n",
       "      <td>1</td>\n",
       "      <td>1</td>\n",
       "      <td>0</td>\n",
       "      <td>0.003023</td>\n",
       "      <td>0</td>\n",
       "    </tr>\n",
       "    <tr>\n",
       "      <th>1</th>\n",
       "      <td>0</td>\n",
       "      <td>1</td>\n",
       "      <td>1</td>\n",
       "      <td>0</td>\n",
       "      <td>1</td>\n",
       "      <td>0.977449</td>\n",
       "      <td>1</td>\n",
       "    </tr>\n",
       "    <tr>\n",
       "      <th>2</th>\n",
       "      <td>1</td>\n",
       "      <td>0</td>\n",
       "      <td>1</td>\n",
       "      <td>0</td>\n",
       "      <td>1</td>\n",
       "      <td>0.995961</td>\n",
       "      <td>1</td>\n",
       "    </tr>\n",
       "    <tr>\n",
       "      <th>3</th>\n",
       "      <td>1</td>\n",
       "      <td>1</td>\n",
       "      <td>1</td>\n",
       "      <td>1</td>\n",
       "      <td>0</td>\n",
       "      <td>0.028606</td>\n",
       "      <td>0</td>\n",
       "    </tr>\n",
       "    <tr>\n",
       "      <th>4</th>\n",
       "      <td>1</td>\n",
       "      <td>0</td>\n",
       "      <td>0</td>\n",
       "      <td>1</td>\n",
       "      <td>1</td>\n",
       "      <td>0.977425</td>\n",
       "      <td>1</td>\n",
       "    </tr>\n",
       "  </tbody>\n",
       "</table>\n",
       "</div>"
      ],
      "text/plain": [
       "   Input1  Input2  Input3  Input4  Output  Network_prediction  Network_output\n",
       "0       0       0       1       1       0            0.003023               0\n",
       "1       0       1       1       0       1            0.977449               1\n",
       "2       1       0       1       0       1            0.995961               1\n",
       "3       1       1       1       1       0            0.028606               0\n",
       "4       1       0       0       1       1            0.977425               1"
      ]
     },
     "execution_count": 163,
     "metadata": {},
     "output_type": "execute_result"
    }
   ],
   "source": [
    "df = pd.DataFrame(input_matrix,columns=[\"Input1\",\"Input2\",\"Input3\",\"Input4\"])\n",
    "df[\"Output\"]=output_vec\n",
    "df[\"Network_prediction\"]=nn.out\n",
    "df[\"Network_output\"]=output_vec\n",
    "df"
   ]
  },
  {
   "cell_type": "code",
   "execution_count": 165,
   "metadata": {},
   "outputs": [
    {
     "data": {
      "image/png": "[encoded data removed]",
      "text/plain": [
       "<Figure size 432x288 with 1 Axes>"
      ]
     },
     "metadata": {
      "needs_background": "light"
     },
     "output_type": "display_data"
    }
   ],
   "source": [
    "plt.plot(loss_values)\n",
    "plt.xlabel(\"Number of iteration\")\n",
    "plt.ylabel(\"Loss value\")\n",
    "plt.title(\"Validation loss history\")\n",
    "plt.show()"
   ]
  },
  {
   "cell_type": "code",
   "execution_count": null,
   "metadata": {},
   "outputs": [],
   "source": []
  }
 ],
 "metadata": {
  "kernelspec": {
   "display_name": "Python 3",
   "language": "python",
   "name": "python3"
  },
  "language_info": {
   "codemirror_mode": {
    "name": "ipython",
    "version": 3
   },
   "file_extension": ".py",
   "mimetype": "text/x-python",
   "name": "python",
   "nbconvert_exporter": "python",
   "pygments_lexer": "ipython3",
   "version": "3.7.0"
  }
 },
 "nbformat": 4,
 "nbformat_minor": 2
}
